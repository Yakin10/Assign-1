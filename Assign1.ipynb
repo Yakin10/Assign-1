{
 "cells": [
  {
   "cell_type": "code",
   "execution_count": null,
   "id": "da49a2a0",
   "metadata": {},
   "outputs": [],
   "source": [
    "import numpy as np\n",
    "import pandas as pd\n",
    "import re\n",
    "import pytrec_eval\n",
    "import json"
   ]
  },
  {
   "cell_type": "code",
   "execution_count": null,
   "id": "58e0caf8",
   "metadata": {},
   "outputs": [],
   "source": [
    "def min_edit_dist(t1,t2):\n",
    "    m,n = len(t1)+1,len(t2)+1\n",
    "    distance_mat = np.zeros([m,n])\n",
    "    for j in range(n):\n",
    "        distance_mat[0][j] = j\n",
    "    for i in range(m):\n",
    "        distance_mat[i][0] = i\n",
    "    distance_mat\n",
    "    cost=0\n",
    "    \n",
    "    for i in range(1,m):\n",
    "        for j in range(1,n):\n",
    "            if(t1[i-1] == t2[j-1]):\n",
    "                cost=0\n",
    "            else:\n",
    "                cost=1\n",
    "            a = distance_mat[i-1][j]+1\n",
    "            b = distance_mat[i,j-1]+1\n",
    "            c = distance_mat[i-1,j-1]+cost\n",
    "            distance_mat[i,j]=min(a,b,c)\n",
    "    return distance_mat[m-1,n-1]"
   ]
  },
  {
   "cell_type": "code",
   "execution_count": null,
   "id": "2479fab0",
   "metadata": {},
   "outputs": [],
   "source": [
    "text,c = [],[]\n",
    "with open(\"courps.txt\") as r:\n",
    "    for t in r.readlines():\n",
    "        if(re.match(r\"\\A[$]\",t)):\n",
    "            c.append(t)\n",
    "        else:\n",
    "            text.append(t)"
   ]
  },
  {
   "cell_type": "code",
   "execution_count": null,
   "id": "a3e916e2",
   "metadata": {},
   "outputs": [],
   "source": [
    "misspelled = []\n",
    "spelled = []\n",
    "t3 = []\n",
    "count = 0\n",
    "for t in text:\n",
    "    t1 = re.split(r\"\\s+\",t)\n",
    "    for t2 in t1:\n",
    "        if(re.match(r\".\\w\",t2)):\n",
    "            if((re.sub(r\"[^a-zA-Z]\",\"\",t2)).isalpha()):\n",
    "                t3.append(re.sub(r\"[^a-zA-Z]\",\"\",t2))\n",
    "            \n",
    "for t in t3:\n",
    "    count=count+1\n",
    "    if(count%2 == 1):\n",
    "        misspelled.append(t)\n",
    "    else:\n",
    "        spelled.append(t)"
   ]
  },
  {
   "cell_type": "code",
   "execution_count": null,
   "id": "2d6ba48e",
   "metadata": {},
   "outputs": [],
   "source": [
    "from nltk.corpus import words as wn"
   ]
  },
  {
   "cell_type": "code",
   "execution_count": null,
   "id": "cd0c7be4",
   "metadata": {},
   "outputs": [],
   "source": [
    "def sim_word(wordlist, miss_word):\n",
    "    l = len(wordlist)\n",
    "    p = min_edit_dist(miss_word,wordlist[0])\n",
    "    dis = []\n",
    "    for i in range(1,l):\n",
    "        dis_word = []\n",
    "        dis_word.append(min_edit_dist(miss_word,wordlist[i]))\n",
    "        dis_word.append(wordlist[i])\n",
    "        dis.append(dis_word)\n",
    "    return dis"
   ]
  },
  {
   "cell_type": "code",
   "execution_count": null,
   "id": "c58c9431",
   "metadata": {
    "scrolled": false
   },
   "outputs": [],
   "source": [
    "wordlist = wn.words()\n",
    "f_list,sak1,sak5,sak10 = [],[],[],[]\n",
    "count = 0;\n",
    "try1 = {}\n",
    "for w in misspelled:\n",
    "    m_c = w[0]\n",
    "    for w1 in wordlist:\n",
    "        if(len(w1)>=len(w)-2 and len(w1)<=(len(w)+2)):\n",
    "            c = w1[0]\n",
    "            if(m_c == c):\n",
    "                f_list.append(w1)\n",
    "    q = sim_word(f_list,w)\n",
    "    df = pd.DataFrame(q, columns=[\"MED\",w])\n",
    "    df = df.sort_values(\"MED\", ignore_index=True)\n",
    "    p = int(min_edit_dist(w,spelled[count]))\n",
    "    qrel = {w : {spelled[count]:10}}\n",
    "    run = {w : {\n",
    "        df[w][9]:1,\n",
    "        df[w][8]:2,\n",
    "        df[w][7]:3,\n",
    "        df[w][6]:4,\n",
    "        df[w][5]:5,\n",
    "        df[w][4]:6,\n",
    "        df[w][3]:7,\n",
    "        df[w][2]:8,\n",
    "        df[w][1]:9,\n",
    "        df[w][0]:10,\n",
    "    }}\n",
    "    eva = pytrec_eval.RelevanceEvaluator(qrel,{'map','ndcg'})\n",
    "    pytrec_eval.supported_measures\n",
    "    print(\"\\nS@k for top 10 : \",json.dumps(eva.evaluate(run), indent=1))\n",
    "    \n",
    "    print((df[w][0],spelled[count]))\n",
    "    print((df[w][4],df[w][9]))\n",
    "    \n",
    "    count = count+1\n",
    "    if(count == 20): break\n",
    "    '''for i in sorted(q.keys()):\n",
    "        print((i,q[i]),end=\",\")\n",
    "    print(w)\n",
    "    print(\"end\")'''"
   ]
  },
  {
   "cell_type": "code",
   "execution_count": null,
   "id": "94f7a0a2",
   "metadata": {},
   "outputs": [],
   "source": []
  }
 ],
 "metadata": {
  "kernelspec": {
   "display_name": "Python 3 (ipykernel)",
   "language": "python",
   "name": "python3"
  },
  "language_info": {
   "codemirror_mode": {
    "name": "ipython",
    "version": 3
   },
   "file_extension": ".py",
   "mimetype": "text/x-python",
   "name": "python",
   "nbconvert_exporter": "python",
   "pygments_lexer": "ipython3",
   "version": "3.9.7"
  }
 },
 "nbformat": 4,
 "nbformat_minor": 5
}
